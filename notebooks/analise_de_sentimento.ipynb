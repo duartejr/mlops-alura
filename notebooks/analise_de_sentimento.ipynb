{
 "cells": [
  {
   "cell_type": "code",
   "execution_count": 3,
   "metadata": {},
   "outputs": [
    {
     "name": "stderr",
     "output_type": "stream",
     "text": [
      "Using state Sao Paulo server backend.\n"
     ]
    }
   ],
   "source": [
    "from textblob import TextBlob\n",
    "import translators as ts"
   ]
  },
  {
   "cell_type": "code",
   "execution_count": 7,
   "metadata": {},
   "outputs": [
    {
     "name": "stdout",
     "output_type": "stream",
     "text": [
      "Python é ótimo para Machine Learning\n",
      "Python is great for Machine Learning\n"
     ]
    }
   ],
   "source": [
    "frase = \"Python é ótimo para Machine Learning\"\n",
    "tb = TextBlob(frase)\n",
    "frase_en = ts.google(frase, to_language='en')\n",
    "tb_en = TextBlob(frase_en)\n",
    "\n",
    "print(tb)\n",
    "print(tb_en)"
   ]
  },
  {
   "cell_type": "code",
   "execution_count": 9,
   "metadata": {},
   "outputs": [
    {
     "name": "stdout",
     "output_type": "stream",
     "text": [
      "0.0\n",
      "0.8\n"
     ]
    }
   ],
   "source": [
    "print(tb.sentiment.polarity)\n",
    "print(tb_en.sentiment.polarity)"
   ]
  },
  {
   "cell_type": "code",
   "execution_count": null,
   "metadata": {},
   "outputs": [],
   "source": []
  }
 ],
 "metadata": {
  "kernelspec": {
   "display_name": "Python 3.10.6 64-bit (microsoft store)",
   "language": "python",
   "name": "python3"
  },
  "language_info": {
   "codemirror_mode": {
    "name": "ipython",
    "version": 3
   },
   "file_extension": ".py",
   "mimetype": "text/x-python",
   "name": "python",
   "nbconvert_exporter": "python",
   "pygments_lexer": "ipython3",
   "version": "3.10.6"
  },
  "orig_nbformat": 4,
  "vscode": {
   "interpreter": {
    "hash": "73faed565a3fd087a4ba790022032202d38d1d35134060918681fd67d4052d26"
   }
  }
 },
 "nbformat": 4,
 "nbformat_minor": 2
}
